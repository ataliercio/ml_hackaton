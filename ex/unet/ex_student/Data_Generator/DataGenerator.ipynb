{
 "cells": [
  {
   "cell_type": "markdown",
   "id": "3bde15bb",
   "metadata": {},
   "source": [
    "# An introduction to data generator with Keras"
   ]
  },
  {
   "cell_type": "markdown",
   "id": "0db6cfc9",
   "metadata": {},
   "source": [
    "Keras is an API that allows to easly manage deep learning algorithms. However, when we want to train a FCNN for segmentation we need to properly upload the training data. We cannot use the standard module ImageDataGenerator and we need to write a specific generator.\n",
    "\n",
    "A data generator is an iterator that allows us to choose the couple of input data image and label. We need to define a new generator since you may have to handle very big dataset and hence it could not be possible to load the entire dataset at once. This introduction is made to let you understand how to build a real-time generator for CNN."
   ]
  },
  {
   "cell_type": "markdown",
   "id": "f8b87479",
   "metadata": {},
   "source": [
    "Let's import the packages we need:"
   ]
  },
  {
   "cell_type": "code",
   "execution_count": 1,
   "id": "d5f6b016",
   "metadata": {},
   "outputs": [],
   "source": [
    "from tensorflow.keras.utils import Sequence\n",
    "import numpy as np\n",
    "import os\n",
    "import tensorflow as tf\n",
    "from glob import glob\n",
    "import matplotlib.pyplot as plt"
   ]
  },
  {
   "cell_type": "markdown",
   "id": "3a4b883d",
   "metadata": {},
   "source": [
    "A DataGenerator is a class defined through the class Sequence. We first need to initialize the function.\n",
    "This code contains comments that are useful to understand each single part of the DataGenerator. There are also few questions that needs to be answered in the comments that are resumed below the definition."
   ]
  },
  {
   "cell_type": "code",
   "execution_count": 2,
   "id": "4613d06e",
   "metadata": {},
   "outputs": [],
   "source": [
    "class DataGenerator(Sequence):\n",
    "\n",
    "    ''' Datagenerator for U_Net:\n",
    "    Parameters---------------------\n",
    "    path : path to input images\n",
    "    list_X : list, indexes to call training data\n",
    "    batch_size : integer, number of images per batch\n",
    "    dim : tuple, integer, size of input images\n",
    "    shuffle: boolean, shuffle=True means data are shuffled during calling.'''\n",
    "\n",
    "    def __init__(self, path, list_X, batch_size=1, dim=(128,128), shuffle=True):\n",
    "        'Initialization'\n",
    "        self.dim=dim\n",
    "        self.batch_size = batch_size\n",
    "        self.list_X = list_X\n",
    "        self.path = path\n",
    "        self.shuffle = shuffle\n",
    "        self.on_epoch_end()\n",
    "        \n",
    "    ''' We define here the methods/attributes we need. The first one is len: \n",
    "    we use it to return the batch index that the CNN is using at one moment during training.\n",
    "    It is equal to the ratio of the number of samples over the batch size. If we have 120 \n",
    "    samples and batch size equal to 4, the len is 30.'''\n",
    "\n",
    "    def __len__(self):\n",
    "        'Denotes the number of batches per epoch'\n",
    "        return int(np.floor(len(self.list_X) / self.batch_size))\n",
    "\n",
    "    '''Now, when the batch corresponding to a given index is called, the generator executes \n",
    "    the __getitem__ method to generate it.'''\n",
    "    \n",
    "    def __getitem__(self, index):\n",
    "        'Generate one batch of data: When are the image indices reshuffled?'\n",
    "        # Generate indexes of a single batch\n",
    "        indexes = self.indexes[index*self.batch_size:(index+1)*self.batch_size]\n",
    "\n",
    "        # Find list of IDs\n",
    "        list_X_temp = [self.list_X[k] for k in indexes]\n",
    "\n",
    "        # Generate data using the method __data_generation that we\n",
    "        # will define later.\n",
    "        X, y = self.__data_generation(list_X_temp, self.path)\n",
    "\n",
    "        return X, y\n",
    "\n",
    "    def on_epoch_end(self):\n",
    "        ''' This method is used to update indices after each epoch. This is very VERY important, why?\n",
    "        (because CNN are prone to learn the data order.)'''\n",
    "        self.indexes = np.arange(len(self.list_X))\n",
    "        if self.shuffle == True:\n",
    "            'where do we set shuffle=True?'\n",
    "            np.random.shuffle(self.indexes)\n",
    "\n",
    "    def __data_generation(self, list_X_temp, path):  \n",
    "        '''This method is the core of a data generator. We first initialize the\n",
    "        array containing the input data and the labels.'''\n",
    "        # Initialization: we define empty arrays with batch size as (batch) sample dimension.\n",
    "        # Then we put the image size (where is the image size defined?) and the number of channel.\n",
    "        # Grayscale images have 1 channel.\n",
    "        \n",
    "        X = np.empty((self.batch_size, *self.dim, 1))\n",
    "        y = np.empty((self.batch_size, *self.dim, 1))\n",
    "\n",
    "        # Generate data\n",
    "        for i, j in enumerate(list_X_temp): # what is the dimension of list_X_temp?\n",
    "            # We read the pre-processed data.\n",
    "            arr=np.load(os.path.join(path, str(j)))\n",
    "            \n",
    "           # img = np.zeros((arr.shape[0], arr.shape[1]))\n",
    "           # seg = np.zeros((arr.shape[0], arr.shape[1]))\n",
    "            \n",
    "           # img[:,:]=arr[:,:,0]\n",
    "           # seg[:,:]=arr[:,:,1]\n",
    "\n",
    "            X[i] = np.expand_dims(arr[:,:,0], axis=-1)\n",
    "            y[i] = np.expand_dims(arr[:,:,1], axis=-1)\n",
    "\n",
    "        return X, y"
   ]
  },
  {
   "cell_type": "markdown",
   "id": "dcb2eafc-3388-4213-9608-999b8339d92e",
   "metadata": {},
   "source": [
    "**QUESTIONS:**\n",
    "1) When are the image indices reshuffled?\n",
    "2) Why indices reshuffling is so important?\n",
    "3) Where do we set suffhle=True?\n",
    "4) What is the dimension of list_X_temp?\n",
    "\n",
    "We could perform also data augmentation with the above generator. Where should it be performed? What happens if we implement data augmentation in the generator?\n",
    "\n",
    "## Download the data\n",
    "\n",
    "execute the ```get_data.sh``` script:"
   ]
  },
  {
   "cell_type": "code",
   "execution_count": 3,
   "id": "660fcbdc-db68-404f-b165-0aeaf0cf03df",
   "metadata": {},
   "outputs": [],
   "source": [
    "dim = 128  # Available dimensions: 128, 256, 512\n",
    "\n",
    "# Allow for overriding in tests\n",
    "dim = os.environ.get(\"UNET_SHEZEN_DIM\", dim)\n",
    "\n",
    "data_url = {128: '0e1e5d/dl/Shezen_128128.zip', 256: '3a4a44/dl/Shezen_256256.zip', 512: '80a4eb/dl/Shezen_512512.zip'}\n",
    "\n",
    "if not os.path.exists(f\"../Shezen_{dim:d}{dim:d}\"):\n",
    "    ! wget https://pandora.infn.it/public/{data_url[dim]} -qO tmp.zip\n",
    "    ! unzip -q tmp.zip \n",
    "    ! rm -rf tmp.zip\n",
    "    ! mv ./Shezen_{dim}{dim} ../Shezen_{dim}{dim}\n",
    "\n",
    "path='../Shezen_{:d}{:d}/'.format(dim,dim) # input images path\n",
    "data_path= path + '*'"
   ]
  },
  {
   "cell_type": "markdown",
   "id": "dc54df22",
   "metadata": {},
   "source": [
    "We wrote the datagenerator! We are going to test if it works properly. Let's test the data generator!"
   ]
  },
  {
   "cell_type": "code",
   "execution_count": null,
   "id": "54d6bdc7",
   "metadata": {},
   "outputs": [],
   "source": [
    "# select ten patients names to plot: define a list of strings"
   ]
  },
  {
   "cell_type": "code",
   "execution_count": 5,
   "id": "e3b41e4f-9886-4284-a17e-1995a5fe076d",
   "metadata": {},
   "outputs": [],
   "source": [
    "dg_test = DataGenerator() # we call the data generator"
   ]
  },
  {
   "cell_type": "markdown",
   "id": "87110019-ae87-4131-9d89-bead5af0455a",
   "metadata": {},
   "source": [
    "We plot the images with the labes of the selected cases."
   ]
  },
  {
   "cell_type": "code",
   "execution_count": null,
   "id": "7751d02a",
   "metadata": {},
   "outputs": [],
   "source": []
  },
  {
   "cell_type": "markdown",
   "id": "624adbef",
   "metadata": {},
   "source": [
    "We wrote a data generator that should be called by another piece of code. Notebooks are very easy to be used but you can call a function defined in a ipynb.\n",
    "\n",
    "So, we need to export the datagenerator in a .py file in order to call it from another notebook."
   ]
  }
 ],
 "metadata": {
  "kernelspec": {
   "display_name": "Python 3 (ipykernel)",
   "language": "python",
   "name": "python3"
  },
  "language_info": {
   "codemirror_mode": {
    "name": "ipython",
    "version": 3
   },
   "file_extension": ".py",
   "mimetype": "text/x-python",
   "name": "python",
   "nbconvert_exporter": "python",
   "pygments_lexer": "ipython3",
   "version": "3.8.10"
  }
 },
 "nbformat": 4,
 "nbformat_minor": 5
}
