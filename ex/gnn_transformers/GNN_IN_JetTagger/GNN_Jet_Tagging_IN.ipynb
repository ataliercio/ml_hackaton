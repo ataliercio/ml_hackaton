{
 "cells": [
  {
   "cell_type": "markdown",
   "id": "359a6c2b-a4e7-4b5e-b32b-f8b251119947",
   "metadata": {},
   "source": [
    "In this notebook, we perform a Jet identification task using a graph-based multiclass classifier with INs.\n",
    "\n",
    "The problem consists in identifying a given jet as a quark, a gluon, a W, a Z, or a top, based on a jet image, i.e., a 2D histogram of the transverse momentum (pt) deposited in each of 100x100 bins of a square window of the (η, ϕ) plane, centered along the jet axis.\n",
    "\n",
    "For details on the physics problem, see https://arxiv.org/pdf/1804.06913.pdf"
   ]
  },
  {
   "cell_type": "code",
   "execution_count": 1,
   "id": "0b0b9677-2bb3-43bc-9517-256ab3f997e7",
   "metadata": {},
   "outputs": [],
   "source": [
    "import os\n",
    "import h5py\n",
    "import glob\n",
    "import numpy as np\n",
    "import matplotlib.pyplot as plt"
   ]
  },
  {
   "cell_type": "code",
   "execution_count": 2,
   "id": "9f153ce1-5d42-48af-8cf6-9a7601e093e6",
   "metadata": {},
   "outputs": [],
   "source": [
    "import torch\n",
    "import torch.nn as nn\n",
    "from torch.autograd.variable import *\n",
    "import torch.optim as optim"
   ]
  },
  {
   "cell_type": "code",
   "execution_count": 3,
   "id": "ca1f708d-af72-4da1-97e0-35c391cd4e73",
   "metadata": {},
   "outputs": [],
   "source": [
    "%matplotlib inline"
   ]
  },
  {
   "cell_type": "markdown",
   "id": "68325f42-2e79-437f-88fc-70ddf7ebc75a",
   "metadata": {},
   "source": [
    "## Preparation of the training and validation samples\n",
    "\n",
    "In order to import the dataset, we now clone the dataset repository (to import the data in Colab)\n",
    "\n",
    "* load the h5 files in the data/ repository\n",
    "* extract the data we need: a target and jetImage\n",
    "* To type shell commands, we start the command line with !"
   ]
  },
  {
   "cell_type": "code",
   "execution_count": 1,
   "id": "ab931855-852f-49bf-bbc6-37567d0bc0b0",
   "metadata": {},
   "outputs": [
    {
     "name": "stdout",
     "output_type": "stream",
     "text": [
      "Cloning into 'tutorials'...\n",
      "remote: Enumerating objects: 690, done.\u001b[K\n",
      "remote: Counting objects: 100% (111/111), done.\u001b[K\n",
      "remote: Compressing objects: 100% (76/76), done.\u001b[K\n",
      "remote: Total 690 (delta 51), reused 92 (delta 32), pack-reused 579\u001b[K\n",
      "Receiving objects: 100% (690/690), 565.84 MiB | 28.33 MiB/s, done.\n",
      "Resolving deltas: 100% (253/253), done.\n",
      "Updating files: 100% (75/75), done.\n"
     ]
    }
   ],
   "source": [
    "! git clone https://github.com/pierinim/tutorials.git"
   ]
  },
  {
   "cell_type": "code",
   "execution_count": 2,
   "id": "ef846daa-613e-49f8-ac02-18e8cd89e8d9",
   "metadata": {},
   "outputs": [
    {
     "name": "stdout",
     "output_type": "stream",
     "text": [
      "jetImage_7_100p_0_10000.h5\tjetImage_7_100p_50000_60000.h5\n",
      "jetImage_7_100p_10000_20000.h5\tjetImage_7_100p_60000_70000.h5\n",
      "jetImage_7_100p_30000_40000.h5\tjetImage_7_100p_70000_80000.h5\n",
      "jetImage_7_100p_40000_50000.h5\tjetImage_7_100p_80000_90000.h5\n"
     ]
    }
   ],
   "source": [
    "! ls tutorials/Data/JetDataset/"
   ]
  },
  {
   "cell_type": "code",
   "execution_count": 6,
   "id": "44e10856-d2c0-4728-94b5-935ea4c7c980",
   "metadata": {},
   "outputs": [
    {
     "name": "stdout",
     "output_type": "stream",
     "text": [
      "Appending tutorials/Data/JetDataset/jetImage_7_100p_30000_40000.h5\n",
      "Appending tutorials/Data/JetDataset/jetImage_7_100p_60000_70000.h5\n"
     ]
    },
    {
     "name": "stderr",
     "output_type": "stream",
     "text": [
      "/tmp/ipykernel_237/661224073.py:13: H5pyDeprecationWarning: The default file mode will change to 'r' (read-only) in h5py 3.0. To suppress this warning, pass the mode you need to h5py.File(), or set the global default h5.get_config().default_file_mode, or set the environment variable H5PY_DEFAULT_READONLY=1. Available modes are: 'r', 'r+', 'w', 'w-'/'x', 'a'. See the docs for details.\n",
      "  f = h5py.File(fileIN)\n"
     ]
    },
    {
     "name": "stdout",
     "output_type": "stream",
     "text": [
      "Appending tutorials/Data/JetDataset/jetImage_7_100p_50000_60000.h5\n",
      "Appending tutorials/Data/JetDataset/jetImage_7_100p_10000_20000.h5\n",
      "Appending tutorials/Data/JetDataset/jetImage_7_100p_0_10000.h5\n",
      "(50000, 5) (50000, 100, 3)\n"
     ]
    }
   ],
   "source": [
    "target = np.array([])\n",
    "jetList = np.array([])\n",
    "# we cannot load all data on Colab. So we just take a few files\n",
    "datafiles = ['tutorials/Data/JetDataset/jetImage_7_100p_30000_40000.h5',\n",
    "           'tutorials/Data/JetDataset/jetImage_7_100p_60000_70000.h5',\n",
    "            'tutorials/Data/JetDataset/jetImage_7_100p_50000_60000.h5',\n",
    "            'tutorials/Data/JetDataset/jetImage_7_100p_10000_20000.h5',\n",
    "            'tutorials/Data/JetDataset/jetImage_7_100p_0_10000.h5']\n",
    "# if you are running locallt, you can use the full dataset doing\n",
    "# for fileIN in glob.glob(\"tutorials/HiggsSchool/data/*h5\"):\n",
    "for fileIN in datafiles:\n",
    "    print(\"Appending %s\" %fileIN)\n",
    "    f = h5py.File(fileIN)\n",
    "    # for pT, eta, phi\n",
    "    myJetList = np.array(f.get(\"jetConstituentList\")[:,:,[5,8,11]])\n",
    "    # for px, py, pz\n",
    "    #myJetList = np.array(f.get(\"jetConstituentList\")[:,:,[0,1,2]])\n",
    "    mytarget = np.array(f.get('jets')[0:,-6:-1])\n",
    "    jetList = np.concatenate([jetList, myJetList], axis=0) if jetList.size else myJetList\n",
    "    target = np.concatenate([target, mytarget], axis=0) if target.size else mytarget\n",
    "    del myJetList, mytarget\n",
    "    f.close()\n",
    "print(target.shape, jetList.shape)"
   ]
  },
  {
   "cell_type": "code",
   "execution_count": 7,
   "id": "6240fe89-0757-47e9-89f5-c80a19170fb3",
   "metadata": {},
   "outputs": [],
   "source": [
    "# pytorch Cross Entropy doesn't support one-hot encoding\n",
    "target = np.argmax(target, axis=1)\n",
    "# the dataset is N_jets x N_particles x N_features\n",
    "# the IN wants N_jets x N_features x N_particles\n",
    "jetList = np.swapaxes(jetList, 1, 2)"
   ]
  },
  {
   "cell_type": "code",
   "execution_count": 8,
   "id": "88537b6d-b54b-41bc-a5ff-3af06f250eeb",
   "metadata": {},
   "outputs": [
    {
     "name": "stdout",
     "output_type": "stream",
     "text": [
      "(50000, 3, 30)\n"
     ]
    }
   ],
   "source": [
    "nParticle = 30\n",
    "jetList = jetList[:,:,:nParticle]\n",
    "print(jetList.shape)"
   ]
  },
  {
   "cell_type": "code",
   "execution_count": 9,
   "id": "85fdf9cc-b2a2-4df0-a07d-51a2cc86ddae",
   "metadata": {},
   "outputs": [
    {
     "name": "stdout",
     "output_type": "stream",
     "text": [
      "(33500, 3, 30) (16500, 3, 30) (33500,) (16500,)\n"
     ]
    }
   ],
   "source": [
    "from sklearn.model_selection import train_test_split\n",
    "X_train, X_val, y_train, y_val = train_test_split(jetList, target, test_size=0.33)\n",
    "print(X_train.shape, X_val.shape, y_train.shape, y_val.shape)\n",
    "del jetList, target"
   ]
  },
  {
   "cell_type": "code",
   "execution_count": 10,
   "id": "f8c5ddd7-794d-4d18-a57c-281dc81dcc42",
   "metadata": {},
   "outputs": [],
   "source": [
    "# check if a GPU is available. Otherwise run on CPU\n",
    "device = 'cpu'\n",
    "args_cuda = torch.cuda.is_available()\n",
    "if args_cuda: device = \"cuda\""
   ]
  },
  {
   "cell_type": "code",
   "execution_count": null,
   "id": "c63b209b-97e8-4082-bf75-70b9e17cc270",
   "metadata": {},
   "outputs": [],
   "source": [
    "# Convert dataset to pytorch\n",
    "X_train = Variable(torch.FloatTensor(X_train)).to(device)\n",
    "X_val = Variable(torch.FloatTensor(X_val)).to(device)\n",
    "y_train = Variable(torch.LongTensor(y_train).long()).to(device)\n",
    "y_val = Variable(torch.LongTensor(y_val).long()).to(device)"
   ]
  },
  {
   "cell_type": "markdown",
   "id": "0d1578c0-68de-44a5-865f-59b8edd75374",
   "metadata": {},
   "source": [
    "## Build the model"
   ]
  },
  {
   "cell_type": "code",
   "execution_count": 12,
   "id": "fb5c000a-0a5b-48b6-bcb8-087ffe7b8c09",
   "metadata": {},
   "outputs": [],
   "source": [
    "import itertools\n",
    "\n",
    "class GraphNet(nn.Module):\n",
    "    def __init__(self):\n",
    "        super(GraphNet, self).__init__()\n",
    "        self.P = 3 # number of features\n",
    "        self.N = nParticle # number of particles\n",
    "        self.Nr = self.N * (self.N - 1)\n",
    "        self.De = 8 # dimensionality of De learned representation\n",
    "        self.Do = 8 # number of engineered features\n",
    "        self.n_targets = 5 # number of target classes\n",
    "        self.assign_matrices() # build Rr and Rs\n",
    "\n",
    "        # build netwok\n",
    "        self.batchnorm_x = nn.BatchNorm1d(self.P)\n",
    "        self.hidden = 10\n",
    "        self.fr1 = nn.Linear(2 * self.P, self.hidden).to(device)\n",
    "        self.fr2 = nn.Linear(self.hidden, self.hidden).to(device)\n",
    "        self.fr3 = nn.Linear(self.hidden, self.De).to(device)\n",
    "        self.fo1 = nn.Linear(self.P + self.De, self.hidden).to(device)\n",
    "        self.fo2 = nn.Linear(self.hidden, self.hidden).to(device)\n",
    "        self.fo3 = nn.Linear(self.hidden, self.Do).to(device)\n",
    "        self.fc1 = nn.Linear(self.Do, self.hidden).to(device)\n",
    "        self.fc2 = nn.Linear(self.hidden, self.hidden).to(device)\n",
    "        self.fc3 = nn.Linear(self.hidden, self.n_targets).to(device)\n",
    "             \n",
    "    def assign_matrices(self):\n",
    "        self.Rr = torch.zeros(self.N, self.Nr)\n",
    "        self.Rs = torch.zeros(self.N, self.Nr)\n",
    "        receiver_sender_list = [i for i in itertools.product(range(self.N), range(self.N)) if i[0]!=i[1]]\n",
    "        for i, (r, s) in enumerate(receiver_sender_list):\n",
    "            self.Rr[r, i] = 1\n",
    "            self.Rs[s, i] = 1\n",
    "        self.Rr = Variable(self.Rr).to(device)\n",
    "        self.Rs = Variable(self.Rs).to(device)\n",
    "\n",
    "    def forward(self, x):\n",
    "        x = self.batchnorm_x(x) # [batch, P, N]\n",
    "        Orr = self.tmul(x, self.Rr)\n",
    "        Ors = self.tmul(x, self.Rs)\n",
    "        B = torch.cat([Orr, Ors], 1)\n",
    "        ### First MLP ###\n",
    "        B = torch.transpose(B, 1, 2).contiguous()\n",
    "        B = nn.functional.relu(self.fr1(B.view(-1, 2 * self.P)))\n",
    "        B = nn.functional.relu(self.fr2(B))\n",
    "        E = nn.functional.relu(self.fr3(B).view(-1, self.Nr, self.De))\n",
    "        del B\n",
    "        E = torch.transpose(E, 1, 2).contiguous()\n",
    "        Ebar = self.tmul(E, torch.transpose(self.Rr, 0, 1).contiguous())\n",
    "        del E\n",
    "        C = torch.cat([x, Ebar], 1)\n",
    "        del Ebar\n",
    "        C = torch.transpose(C, 1, 2).contiguous()\n",
    "        ### Second MLP ###\n",
    "        C = nn.functional.relu(self.fo1(C.view(-1, self.P + self.De)))\n",
    "        C = nn.functional.relu(self.fo2(C))\n",
    "        O = nn.functional.relu(self.fo3(C).view(-1, self.N, self.Do))\n",
    "        del C\n",
    "        # sum over constituents\n",
    "        O = torch.sum(O,1)\n",
    "        ### Classification MLP ###\n",
    "        N = nn.functional.relu(self.fc1(O.view(-1, self.Do)))\n",
    "        N = nn.functional.relu(self.fc2(N))\n",
    "        del O\n",
    "        N = self.fc3(N)\n",
    "        return N\n",
    "\n",
    "    def tmul(self, x, y):  #Takes (I * J * K)(K * L) -> I * J * L \n",
    "        x_shape = x.size()\n",
    "        y_shape = y.size()\n",
    "        prod = torch.mm(x.reshape(x_shape[0]*x_shape[1], x_shape[2]), y).view(-1, x_shape[1], y_shape[1])\n",
    "        return prod\n",
    "\n",
    "def get_sample(training, target, choice):\n",
    "    target_vals = np.argmax(target, axis = 1)\n",
    "    ind, = np.where(target_vals == choice)\n",
    "    chosen_ind = np.random.choice(ind, 50000)\n",
    "    return training[chosen_ind], target[chosen_ind]"
   ]
  },
  {
   "cell_type": "markdown",
   "id": "f65fab60-11b5-4589-a926-d0044e91a4c1",
   "metadata": {},
   "source": [
    "## Train the model"
   ]
  },
  {
   "cell_type": "code",
   "execution_count": 16,
   "id": "c943da82-1d7f-460c-936b-ff78caf94c4e",
   "metadata": {},
   "outputs": [],
   "source": [
    "n_epochs = 100\n",
    "batch_size = 100\n",
    "patience =  10"
   ]
  },
  {
   "cell_type": "code",
   "execution_count": 17,
   "id": "f2cbb9ce-2c38-49b0-a34a-e18eb52ae99d",
   "metadata": {},
   "outputs": [
    {
     "name": "stdout",
     "output_type": "stream",
     "text": [
      "Epoch 0\n",
      "Training   Loss: 1.619539\n",
      "Validation Loss: 1.631578\n",
      "Epoch 1\n",
      "Training   Loss: 1.559345\n",
      "Validation Loss: 1.576840\n",
      "Epoch 2\n",
      "Training   Loss: 1.494348\n",
      "Validation Loss: 1.515534\n",
      "Epoch 3\n",
      "Training   Loss: 1.275848\n",
      "Validation Loss: 1.304171\n",
      "Epoch 4\n",
      "Training   Loss: 1.220097\n",
      "Validation Loss: 1.279783\n",
      "Epoch 5\n",
      "Training   Loss: 1.191401\n",
      "Validation Loss: 1.264112\n",
      "Epoch 6\n",
      "Training   Loss: 1.165484\n",
      "Validation Loss: 1.247949\n",
      "Epoch 7\n",
      "Training   Loss: 1.140260\n",
      "Validation Loss: 1.236101\n",
      "Epoch 8\n",
      "Training   Loss: 1.120459\n",
      "Validation Loss: 1.220788\n",
      "Epoch 9\n",
      "Training   Loss: 1.099597\n",
      "Validation Loss: 1.202452\n",
      "Epoch 10\n",
      "Training   Loss: 1.083923\n",
      "Validation Loss: 1.189370\n",
      "Epoch 11\n",
      "Training   Loss: 1.071475\n",
      "Validation Loss: 1.175680\n",
      "Epoch 12\n",
      "Training   Loss: 1.059361\n",
      "Validation Loss: 1.160567\n",
      "Epoch 13\n",
      "Training   Loss: 1.049059\n",
      "Validation Loss: 1.141942\n",
      "Epoch 14\n",
      "Training   Loss: 1.038225\n",
      "Validation Loss: 1.123093\n",
      "Epoch 15\n",
      "Training   Loss: 1.028114\n",
      "Validation Loss: 1.106783\n",
      "Epoch 16\n",
      "Training   Loss: 1.017986\n",
      "Validation Loss: 1.091956\n",
      "Epoch 17\n",
      "Training   Loss: 1.006189\n",
      "Validation Loss: 1.078102\n",
      "Epoch 18\n",
      "Training   Loss: 0.997223\n",
      "Validation Loss: 1.067173\n",
      "Epoch 19\n",
      "Training   Loss: 0.988922\n",
      "Validation Loss: 1.058729\n",
      "Epoch 20\n",
      "Training   Loss: 0.981842\n",
      "Validation Loss: 1.048984\n",
      "Epoch 21\n",
      "Training   Loss: 0.975965\n",
      "Validation Loss: 1.039167\n",
      "Epoch 22\n",
      "Training   Loss: 0.970890\n",
      "Validation Loss: 1.029460\n",
      "Epoch 23\n",
      "Training   Loss: 0.966957\n",
      "Validation Loss: 1.020873\n",
      "Epoch 24\n",
      "Training   Loss: 0.963271\n",
      "Validation Loss: 1.013938\n",
      "Epoch 25\n",
      "Training   Loss: 0.959808\n",
      "Validation Loss: 1.008647\n",
      "Epoch 26\n",
      "Training   Loss: 0.955386\n",
      "Validation Loss: 1.004433\n",
      "Epoch 27\n",
      "Training   Loss: 0.951390\n",
      "Validation Loss: 1.002144\n",
      "Epoch 28\n",
      "Training   Loss: 0.948710\n",
      "Validation Loss: 0.999849\n",
      "Epoch 29\n",
      "Training   Loss: 0.945461\n",
      "Validation Loss: 0.997311\n",
      "Epoch 30\n",
      "Training   Loss: 0.942748\n",
      "Validation Loss: 0.995802\n",
      "Epoch 31\n",
      "Training   Loss: 0.939943\n",
      "Validation Loss: 0.993600\n",
      "Epoch 32\n",
      "Training   Loss: 0.936771\n",
      "Validation Loss: 0.992497\n",
      "Epoch 33\n",
      "Training   Loss: 0.933120\n",
      "Validation Loss: 0.992252\n",
      "Epoch 34\n",
      "Training   Loss: 0.930523\n",
      "Validation Loss: 0.993018\n",
      "Epoch 35\n",
      "Training   Loss: 0.926769\n",
      "Validation Loss: 0.993404\n",
      "Epoch 36\n",
      "Training   Loss: 0.923331\n",
      "Validation Loss: 0.993784\n",
      "Epoch 37\n",
      "Training   Loss: 0.919599\n",
      "Validation Loss: 0.994710\n",
      "Epoch 38\n",
      "Training   Loss: 0.916155\n",
      "Validation Loss: 0.995478\n",
      "Epoch 39\n",
      "Training   Loss: 0.913775\n",
      "Validation Loss: 0.996422\n",
      "Epoch 40\n",
      "Training   Loss: 0.911324\n",
      "Validation Loss: 0.996784\n",
      "Epoch 41\n",
      "Training   Loss: 0.908283\n",
      "Validation Loss: 0.997252\n",
      "Epoch 42\n",
      "Training   Loss: 0.906159\n",
      "Validation Loss: 0.997994\n",
      "Epoch 43\n",
      "Training   Loss: 0.904309\n",
      "Validation Loss: 0.998438\n",
      "Epoch 44\n",
      "Training   Loss: 0.901998\n",
      "Validation Loss: 0.999032\n",
      "Epoch 45\n",
      "Training   Loss: 0.900041\n",
      "Validation Loss: 0.999432\n",
      "Epoch 46\n",
      "Training   Loss: 0.898465\n",
      "Validation Loss: 0.999349\n",
      "Epoch 47\n",
      "Training   Loss: 0.896561\n",
      "Validation Loss: 0.999485\n",
      "Epoch 48\n",
      "Training   Loss: 0.894598\n",
      "Validation Loss: 0.998581\n",
      "Epoch 49\n",
      "Training   Loss: 0.893286\n",
      "Validation Loss: 0.998008\n",
      "Epoch 50\n",
      "Training   Loss: 0.891812\n",
      "Validation Loss: 0.997802\n",
      "Epoch 51\n",
      "Training   Loss: 0.890458\n",
      "Validation Loss: 0.996772\n",
      "Epoch 52\n",
      "Training   Loss: 0.888868\n",
      "Validation Loss: 0.996626\n",
      "Epoch 53\n",
      "Training   Loss: 0.887480\n",
      "Validation Loss: 0.996098\n",
      "Epoch 54\n",
      "Training   Loss: 0.886558\n",
      "Validation Loss: 0.996262\n",
      "Epoch 55\n",
      "Training   Loss: 0.885474\n",
      "Validation Loss: 0.996390\n",
      "Epoch 56\n",
      "Training   Loss: 0.883990\n",
      "Validation Loss: 0.996044\n",
      "Epoch 57\n",
      "Training   Loss: 0.882514\n",
      "Validation Loss: 0.995701\n",
      "Epoch 58\n",
      "Training   Loss: 0.880949\n",
      "Validation Loss: 0.995510\n",
      "Epoch 59\n",
      "Training   Loss: 0.880138\n",
      "Validation Loss: 0.995421\n",
      "Epoch 60\n",
      "Training   Loss: 0.878805\n",
      "Validation Loss: 0.995434\n",
      "Epoch 61\n",
      "Training   Loss: 0.876911\n",
      "Validation Loss: 0.994989\n",
      "Epoch 62\n",
      "Training   Loss: 0.875556\n",
      "Validation Loss: 0.995462\n",
      "Epoch 63\n",
      "Training   Loss: 0.874183\n",
      "Validation Loss: 0.996003\n",
      "Epoch 64\n",
      "Training   Loss: 0.872604\n",
      "Validation Loss: 0.994767\n",
      "Epoch 65\n",
      "Training   Loss: 0.871506\n",
      "Validation Loss: 0.995419\n",
      "Epoch 66\n",
      "Training   Loss: 0.870338\n",
      "Validation Loss: 0.995495\n",
      "Epoch 67\n",
      "Training   Loss: 0.869510\n",
      "Validation Loss: 0.995989\n",
      "Epoch 68\n",
      "Training   Loss: 0.868594\n",
      "Validation Loss: 0.994944\n",
      "Epoch 69\n",
      "Training   Loss: 0.867481\n",
      "Validation Loss: 0.994774\n",
      "Epoch 70\n",
      "Training   Loss: 0.866572\n",
      "Validation Loss: 0.993891\n",
      "Epoch 71\n",
      "Training   Loss: 0.865044\n",
      "Validation Loss: 0.993730\n",
      "Epoch 72\n",
      "Training   Loss: 0.863621\n",
      "Validation Loss: 0.992515\n",
      "Epoch 73\n",
      "Training   Loss: 0.862377\n",
      "Validation Loss: 0.993071\n",
      "Epoch 74\n",
      "Training   Loss: 0.860884\n",
      "Validation Loss: 0.992588\n",
      "Epoch 75\n",
      "Training   Loss: 0.859454\n",
      "Validation Loss: 0.991721\n",
      "Epoch 76\n",
      "Training   Loss: 0.857678\n",
      "Validation Loss: 0.991143\n",
      "Epoch 77\n",
      "Training   Loss: 0.855852\n",
      "Validation Loss: 0.990728\n",
      "Epoch 78\n",
      "Training   Loss: 0.854709\n",
      "Validation Loss: 0.990857\n",
      "Epoch 79\n",
      "Training   Loss: 0.853493\n",
      "Validation Loss: 0.991125\n",
      "Epoch 80\n",
      "Training   Loss: 0.852550\n",
      "Validation Loss: 0.990745\n",
      "Epoch 81\n",
      "Training   Loss: 0.851552\n",
      "Validation Loss: 0.989900\n",
      "Epoch 82\n",
      "Training   Loss: 0.850485\n",
      "Validation Loss: 0.990589\n",
      "Epoch 83\n",
      "Training   Loss: 0.849449\n",
      "Validation Loss: 0.990591\n",
      "Epoch 84\n",
      "Training   Loss: 0.848061\n",
      "Validation Loss: 0.990618\n",
      "Epoch 85\n",
      "Training   Loss: 0.846778\n",
      "Validation Loss: 0.990496\n",
      "Epoch 86\n",
      "Training   Loss: 0.845731\n",
      "Validation Loss: 0.989431\n",
      "Epoch 87\n",
      "Training   Loss: 0.844873\n",
      "Validation Loss: 0.988900\n",
      "Epoch 88\n",
      "Training   Loss: 0.844323\n",
      "Validation Loss: 0.988683\n",
      "Epoch 89\n",
      "Training   Loss: 0.843761\n",
      "Validation Loss: 0.988973\n",
      "Epoch 90\n",
      "Training   Loss: 0.843554\n",
      "Validation Loss: 0.989128\n",
      "Epoch 91\n",
      "Training   Loss: 0.842113\n",
      "Validation Loss: 0.989795\n",
      "Epoch 92\n",
      "Training   Loss: 0.841960\n",
      "Validation Loss: 0.989439\n",
      "Epoch 93\n",
      "Training   Loss: 0.840800\n",
      "Validation Loss: 0.989363\n",
      "Epoch 94\n",
      "Training   Loss: 0.840072\n",
      "Validation Loss: 0.990635\n",
      "Epoch 95\n",
      "Training   Loss: 0.840072\n",
      "Validation Loss: 0.991359\n",
      "Epoch 96\n",
      "Training   Loss: 0.839757\n",
      "Validation Loss: 0.990538\n",
      "Epoch 97\n",
      "Training   Loss: 0.839372\n",
      "Validation Loss: 0.991999\n",
      "Epoch 98\n",
      "Training   Loss: 0.838927\n",
      "Validation Loss: 0.992921\n",
      "Epoch 99\n",
      "Training   Loss: 0.838578\n",
      "Validation Loss: 0.993101\n"
     ]
    }
   ],
   "source": [
    "gnn = GraphNet()\n",
    "gnn.to(device)\n",
    "loss = nn.CrossEntropyLoss()\n",
    "optimizer = optim.Adam(gnn.parameters(), lr = 0.0001)\n",
    "\n",
    "loss_train = np.zeros(n_epochs)\n",
    "acc_train = np.zeros(n_epochs)\n",
    "loss_val = np.zeros(n_epochs)\n",
    "acc_val = np.zeros(n_epochs)\n",
    "for i in range(n_epochs):\n",
    "    print(\"Epoch %s\" % i)\n",
    "    for j in range(0, X_train.size()[0], batch_size):\n",
    "        optimizer.zero_grad()\n",
    "        out = gnn(X_train[j:j + batch_size,:,:])\n",
    "        target = y_train[j:j + batch_size]\n",
    "        l = loss(out, target)\n",
    "        l.backward()\n",
    "        optimizer.step()\n",
    "        loss_train[i] += l.cpu().data.numpy()*batch_size\n",
    "    loss_train[i] = loss_train[i]/X_train.shape[0]\n",
    "    #acc_train[i] = stats(predicted, Y_val)\n",
    "    #### val loss & accuracy\n",
    "    for j in range(0, X_val.size()[0], batch_size):\n",
    "        out_val = gnn(X_val[j:j + batch_size])\n",
    "        target_val =  y_val[j:j + batch_size]\n",
    "        \n",
    "        l_val = loss(out_val,target_val)\n",
    "        loss_val[i] += l_val.cpu().data.numpy()*batch_size\n",
    "    loss_val[i] = loss_val[i]/X_val.shape[0]\n",
    "    print(\"Training   Loss: %f\" %l.cpu().data.numpy())\n",
    "    print(\"Validation Loss: %f\" %l_val.cpu().data.numpy())\n",
    "    if all(loss_val[max(0, i - patience):i] > min(np.append(loss_val[0:max(0, i - patience)], 200))) and i > patience:\n",
    "        print(\"Early Stopping\")\n",
    "        break\n",
    "    print"
   ]
  },
  {
   "cell_type": "code",
   "execution_count": 18,
   "id": "de8d4f4e-8635-4276-af0a-dbca94e80811",
   "metadata": {},
   "outputs": [
    {
     "data": {
      "image/png": "[encoded data removed]",
      "text/plain": [
       "<Figure size 432x288 with 1 Axes>"
      ]
     },
     "metadata": {
      "needs_background": "light"
     },
     "output_type": "display_data"
    }
   ],
   "source": [
    "epoch_number = list(range((loss_train > 0.).sum()))\n",
    "plt.figure()\n",
    "plt.plot(epoch_number, loss_train[loss_train>0.],label='Training Loss')\n",
    "plt.plot(epoch_number, loss_val[loss_train>0.],label='Validation Loss')\n",
    "plt.ylabel(\"Loss\")\n",
    "plt.xlabel(\"Epoch\")\n",
    "plt.grid(True)\n",
    "plt.legend(loc='upper right')\n",
    "#plt.savefig('%s/ROC.pdf'%(options.outputDir))\n",
    "plt.show()\n"
   ]
  },
  {
   "cell_type": "markdown",
   "id": "d70b37b9-b93f-41d5-b85c-4a318be17158",
   "metadata": {},
   "source": [
    "## Building the ROC Curves"
   ]
  },
  {
   "cell_type": "code",
   "execution_count": 19,
   "id": "c5672e17-31f9-47da-aeea-7554266198ef",
   "metadata": {},
   "outputs": [],
   "source": [
    "labels = ['gluon', 'quark', 'W', 'Z', 'top']"
   ]
  },
  {
   "cell_type": "code",
   "execution_count": 20,
   "id": "7ae36fb7-646b-4405-909f-fb9a96ebd8e6",
   "metadata": {},
   "outputs": [],
   "source": [
    "lst = []\n",
    "n_batches_val = int(X_val.size()[0]/batch_size)\n",
    "if args_cuda:    \n",
    "    for j in torch.split(X_val, n_batches_val):\n",
    "        a = gnn(j).cpu().data.numpy()\n",
    "        lst.append(a)\n",
    "else:\n",
    "    for j in torch.split(X_val, n_batches_val):\n",
    "        a = gnn(j).cpu().data.numpy()\n",
    "        lst.append(a)\n",
    "predicted = Variable(torch.FloatTensor(np.concatenate(lst)))"
   ]
  },
  {
   "cell_type": "code",
   "execution_count": 21,
   "id": "c1e70b46-9ffd-40ef-90ec-f3d8c1ba5b4b",
   "metadata": {},
   "outputs": [],
   "source": [
    "# there is no softmax in the output layer. We have to put it by \n",
    "predicted = torch.nn.functional.softmax(predicted, dim=1)"
   ]
  },
  {
   "cell_type": "code",
   "execution_count": 22,
   "id": "653a2393-0759-4f7b-9187-a9ac09346953",
   "metadata": {},
   "outputs": [],
   "source": [
    "predict_val = predicted.data.numpy()\n",
    "true_val = y_val.cpu().data.numpy()"
   ]
  },
  {
   "cell_type": "code",
   "execution_count": 23,
   "id": "44be6f4f-0219-480c-b473-99fcb8e3532b",
   "metadata": {},
   "outputs": [
    {
     "data": {
      "image/png": "[encoded data removed]",
      "text/plain": [
       "<Figure size 432x288 with 1 Axes>"
      ]
     },
     "metadata": {
      "needs_background": "light"
     },
     "output_type": "display_data"
    }
   ],
   "source": [
    "from sklearn.metrics import roc_curve, auc\n",
    "#### get the ROC curves\n",
    "fpr = {}\n",
    "tpr = {}\n",
    "auc1 = {}\n",
    "plt.figure()\n",
    "for i, label in enumerate(labels):\n",
    "        fpr[label], tpr[label], threshold = roc_curve((true_val== i), predict_val[:,i])\n",
    "        auc1[label] = auc(fpr[label], tpr[label])\n",
    "        plt.plot(tpr[label],fpr[label],label='%s tagger, auc = %.1f%%'%(label,auc1[label]*100.))\n",
    "plt.semilogy()\n",
    "plt.xlabel(\"sig. efficiency\")\n",
    "plt.ylabel(\"bkg. mistag rate\")\n",
    "plt.ylim(0.001,1)\n",
    "plt.grid(True)\n",
    "plt.legend(loc='lower right')\n",
    "#plt.savefig('%s/ROC.pdf'%(options.outputDir))\n",
    "plt.show()"
   ]
  },
  {
   "cell_type": "code",
   "execution_count": null,
   "id": "f61f0195-d7ac-4932-8ad6-6859c81f9a0b",
   "metadata": {},
   "outputs": [],
   "source": []
  }
 ],
 "metadata": {
  "kernelspec": {
   "display_name": "Python 3 (ipykernel)",
   "language": "python",
   "name": "python3"
  },
  "language_info": {
   "codemirror_mode": {
    "name": "ipython",
    "version": 3
   },
   "file_extension": ".py",
   "mimetype": "text/x-python",
   "name": "python",
   "nbconvert_exporter": "python",
   "pygments_lexer": "ipython3",
   "version": "3.8.10"
  }
 },
 "nbformat": 4,
 "nbformat_minor": 5
}
