{
 "cells": [
  {
   "cell_type": "code",
   "execution_count": 39,
   "id": "4143a4ba-41c2-4d06-9407-d2b29824062f",
   "metadata": {},
   "outputs": [],
   "source": [
    "import numpy as np \n",
    "import matplotlib.pyplot as plt\n",
    "import pandas as pd\n",
    "import re\n",
    "import os"
   ]
  },
  {
   "cell_type": "code",
   "execution_count": null,
   "id": "af5fc5fe-99a9-464c-a0d4-bd79e2e63053",
   "metadata": {},
   "outputs": [],
   "source": [
    "input_files = os.environ.get(\"INPUT\", \"scratch/fit_10-30.npz\")\n",
    "print (input_files)\n",
    "input_files = input_files.split(\" \")\n",
    "\n",
    "df = pd.DataFrame(columns = ['bin']).set_index('bin')\n",
    "\n",
    "for iBin, input_file in enumerate(input_files):\n",
    "    f = np.load(input_file)\n",
    "    for key in f.keys():\n",
    "        df.loc[iBin, key] = f[key]\n",
    "    \n",
    "\n",
    "df"
   ]
  },
  {
   "cell_type": "code",
   "execution_count": null,
   "id": "b93d556a-90c6-4cb1-ba71-86a1028e9251",
   "metadata": {},
   "outputs": [],
   "source": [
    "plt.figure(dpi=120)\n",
    "bw = (df.p_high - df.p_low)\n",
    "plt.errorbar((df.p_low + df.p_high)*0.5, df.n_j/bw, df.err_n_j/bw, bw/2, 'ko', label=\"J/$\\psi$\")\n",
    "plt.errorbar((df.p_low + df.p_high)*0.5, df.n_psi/bw, df.err_n_psi/bw, bw/2, 'ro', label=\"$\\psi$\")\n",
    "plt.xlabel(\"Transverse Momentum [GeV/$c$]\")\n",
    "plt.ylabel(\"Charmonium candidates\")\n",
    "plt.legend()\n",
    "plt.yscale('log')\n",
    "plt.show()"
   ]
  },
  {
   "cell_type": "code",
   "execution_count": null,
   "id": "3718553e-a460-45e9-9d2c-adb2078b8185",
   "metadata": {},
   "outputs": [],
   "source": []
  },
  {
   "cell_type": "code",
   "execution_count": null,
   "id": "3e59bde2-439f-4672-b94c-09af578e7b0e",
   "metadata": {},
   "outputs": [],
   "source": []
  }
 ],
 "metadata": {
  "kernelspec": {
   "display_name": "Python 3 (ipykernel)",
   "language": "python",
   "name": "python3"
  },
  "language_info": {
   "codemirror_mode": {
    "name": "ipython",
    "version": 3
   },
   "file_extension": ".py",
   "mimetype": "text/x-python",
   "name": "python",
   "nbconvert_exporter": "python",
   "pygments_lexer": "ipython3",
   "version": "3.8.10"
  }
 },
 "nbformat": 4,
 "nbformat_minor": 5
}
